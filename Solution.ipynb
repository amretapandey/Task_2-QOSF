{
 "cells": [
  {
   "cell_type": "markdown",
   "metadata": {},
   "source": [
    "# Task 2 - qosf\n",
    "\n",
    "The bit-flip code and the sign-flip code are two very simple circuits able to detect and fix the bit-flip and the sign-flip errors, respectively.\n",
    "\n",
    "1.\tBuild the simple circuit to prepare the Bell state.\n",
    "\n",
    "2.\tNow add, right before the CNOT gate and for each of the two qubits, an arbitrary “error gate”. By error gate we mean that with a certain probability (that you can decide but   must be non-zero for all the choices) you have a 1 qubit unitary which can be either the identity, or the X gate (bit-flip error) or the Z gate (sign-flip error).\n",
    "\n",
    "3.\tEncode each of the two qubits with a sign-flip or a bit-flip code, in such a way that all the possible choices for the error gates described in 2), occurring on the logical qubits, can be detected and fixed. Motivate your choice. This is the most non-trivial part of the problem, so do it with a lot of care!\n",
    "\n",
    "4.\tTest your solution by making many measurements over the final state and testing that the results are in line with the expectations.\n",
    "\n",
    "<br> <hr>\n",
    "\n",
    "# Solution"
   ]
  },
  {
   "cell_type": "code",
   "execution_count": 414,
   "metadata": {
    "scrolled": true
   },
   "outputs": [],
   "source": [
    "%matplotlib inline\n",
    "\n",
    "#Importing standard Qiskit libraries\n",
    "\n",
    "from qiskit import QuantumRegister, ClassicalRegister, QuantumCircuit\n",
    "from qiskit.visualization import plot_histogram\n",
    "from qiskit.tools.monitor import job_monitor\n",
    "from qiskit import QuantumCircuit, execute, Aer, IBMQ\n",
    "from qiskit_textbook.tools import array_to_latex"
   ]
  },
  {
   "cell_type": "markdown",
   "metadata": {},
   "source": [
    "## 1. Bell State\n",
    "\n",
    "_The_ _Bell_ _State_ has **50%** probability of being measured in the state $|00\\rangle$, and **50%** chance of being measured in the state $|11\\rangle$.\n",
    "\n",
    "Qubits Q0 & Q1 are used to build the Bell State.\n",
    "    \n",
    "\n",
    "1. Hadamard Gate is applied to Q0. So, $$ Q0= H|0\\rangle = |+\\rangle = \\tfrac{1}{\\sqrt{2}}(|0\\rangle+|1\\rangle)$$$$Q1= |0\\rangle$$This produces the state $|0\\rangle \\otimes |{+}\\rangle = |0{+}\\rangle$ :\n",
    "$$\n",
    "|0{+}\\rangle = \\tfrac{1}{\\sqrt{2}}(|00\\rangle + |01\\rangle)\n",
    "$$\n",
    "\n",
    "\n",
    "2. The CNOT Gate is applied to both Q0 and Q1. We have the final state as:\n",
    "\n",
    "$$\n",
    "\\text{CNOT}|0{+}\\rangle = \\tfrac{1}{\\sqrt{2}}(|00\\rangle + |11\\rangle)\n",
    "$$ \n",
    "\n",
    "So, the final circuit will be in Bell State as the probability of being measured in the state $|00\\rangle$ is $\\tfrac{1}{2}$ or 50%, and the probability of being measured in the state $|11\\rangle$ is $\\tfrac{1}{2}$ i.e., 50%.\n",
    "\n",
    "In Qiskit, Bell Sate is given as:"
   ]
  },
  {
   "cell_type": "code",
   "execution_count": 415,
   "metadata": {},
   "outputs": [
    {
     "data": {
      "image/png": "[encoded data removed]",
      "text/plain": [
       "<Figure size 206.852x204.68 with 1 Axes>"
      ]
     },
     "execution_count": 415,
     "metadata": {},
     "output_type": "execute_result"
    }
   ],
   "source": [
    "qreg_q = QuantumRegister(2, 'q')\n",
    "creg_c = ClassicalRegister(2, 'c')\n",
    "circuit = QuantumCircuit(qreg_q, creg_c)\n",
    "\n",
    "circuit.h(0)     # Hadamard Gate at Q0\n",
    "                 # No Gate to Q1\n",
    "circuit.cx(0,1) # CNOT Gate to Q0 & Q1\n",
    "\n",
    "circuit.draw() # Draw the circuit"
   ]
  },
  {
   "cell_type": "code",
   "execution_count": 416,
   "metadata": {},
   "outputs": [
    {
     "data": {
      "text/latex": [
       "$\\displaystyle \n",
       "\\text{Statevector = }\\begin{bmatrix}\n",
       "\\tfrac{1}{\\sqrt{2}} \\\\\n",
       "0 \\\\\n",
       "0 \\\\\n",
       "\\tfrac{1}{\\sqrt{2}}\n",
       "\\end{bmatrix}\n",
       "$"
      ],
      "text/plain": [
       "<IPython.core.display.Math object>"
      ]
     },
     "metadata": {},
     "output_type": "display_data"
    }
   ],
   "source": [
    "backend = Aer.get_backend('statevector_simulator')\n",
    "final_state = execute(circuit,backend).result().get_statevector()\n",
    "\n",
    "array_to_latex(final_state, pretext=\"\\\\text{Statevector = }\") # Write state vector"
   ]
  },
  {
   "cell_type": "markdown",
   "metadata": {},
   "source": [
    "The state vector is same as: $$\\tfrac{1}{\\sqrt{2}}(|00\\rangle + |11\\rangle)$$\n",
    "\n",
    "Hence, the state has 50% probability of being measured in the state $|00\\rangle$, and 50% chance of being measured in the state $|11\\rangle$. \n",
    "\n",
    "Also, it has **0%** chance of being measured in the states $|01\\rangle$ or $|10\\rangle$. This can be shown by plotting a histogram of the probabilities of the outcomes of the circuit."
   ]
  },
  {
   "cell_type": "code",
   "execution_count": 417,
   "metadata": {},
   "outputs": [
    {
     "name": "stdout",
     "output_type": "stream",
     "text": [
      "\t\t {'00': 552, '11': 472}\n"
     ]
    },
    {
     "data": {
      "image/png": "[encoded data removed]",
      "text/plain": [
       "<Figure size 504x360 with 1 Axes>"
      ]
     },
     "execution_count": 417,
     "metadata": {},
     "output_type": "execute_result"
    }
   ],
   "source": [
    "# Create a Quantum Circuit\n",
    "meas = QuantumCircuit(2, 2)\n",
    "meas.measure(range(2), range(2))\n",
    "\n",
    "qc = circuit + meas\n",
    "\n",
    "backend_sim = Aer.get_backend('qasm_simulator') # Use Aer's qasm_simulator\n",
    "\n",
    "# Execute the circuit on the qasm simulator.\n",
    "job_sim = execute(qc, backend_sim, shots=1024) # The number of repeats of the circuit is 1024\n",
    "result_sim = job_sim.result() # Grab the results from the job.\n",
    "\n",
    "counts = result_sim.get_counts(qc)\n",
    "print(\"\\t\\t\", counts)\n",
    "\n",
    "plot_histogram(counts) # Plot Histogram for Bell State"
   ]
  },
  {
   "cell_type": "markdown",
   "metadata": {},
   "source": [
    "## 2. Adding Errors\n",
    "\n",
    "The errors are to be added right before the CNOT gate and for each of the two qubits, an arbitrary “error gate”. Error gate is a 1 qubit unitary with a certain probability, which can be:\n",
    "1. The Identity \n",
    "2. The X gate (bit-flip error) \n",
    "3. The Z gate (sign-flip error)\n",
    "\n",
    "<br>\n",
    "\n",
    "### 2.1 The Identity Gate\n",
    "\n",
    "The I-gate has no effect on the qubits. It is represented by the Identity matrix:\n",
    "\n",
    "$$ I = \\begin{bmatrix} 1 & 0 \\\\ 0 & 1 \\end{bmatrix} $$\n",
    "\n",
    "<br> <br>\n",
    "\n",
    "#### 2.1.1 Adding identity error to qubit Q0\n",
    "\n",
    "The I-gate will not change Q0. This can also be shown by the state vector of the circuit simulated with identity error at Q0 before CNOT.\n"
   ]
  },
  {
   "cell_type": "code",
   "execution_count": 418,
   "metadata": {},
   "outputs": [
    {
     "data": {
      "image/png": "[encoded data removed]",
      "text/plain": [
       "<Figure size 267.052x204.68 with 1 Axes>"
      ]
     },
     "execution_count": 418,
     "metadata": {},
     "output_type": "execute_result"
    }
   ],
   "source": [
    "qreg_q = QuantumRegister(2, 'q')\n",
    "creg_c = ClassicalRegister(2, 'c')\n",
    "circuit = QuantumCircuit(qreg_q, creg_c)\n",
    "\n",
    "#### Bell State ####\n",
    "circuit.h(0) # Hadamard Gate at Q0\n",
    "             # No Gate to Q1\n",
    "             # CNOT Gate to Q0 & Q1 after error gate\n",
    "\n",
    "circuit.i(0) # Add Identity Error to Q0\n",
    "\n",
    "circuit.cx(0,1) # CNOT Gate to Q0 & Q1 for Bell State\n",
    "\n",
    "circuit.draw()"
   ]
  },
  {
   "cell_type": "code",
   "execution_count": 419,
   "metadata": {},
   "outputs": [
    {
     "data": {
      "text/latex": [
       "$\\displaystyle \n",
       "\\text{Statevector = }\\begin{bmatrix}\n",
       "\\tfrac{1}{\\sqrt{2}} \\\\\n",
       "0 \\\\\n",
       "0 \\\\\n",
       "\\tfrac{1}{\\sqrt{2}}\n",
       "\\end{bmatrix}\n",
       "$"
      ],
      "text/plain": [
       "<IPython.core.display.Math object>"
      ]
     },
     "metadata": {},
     "output_type": "display_data"
    }
   ],
   "source": [
    "backend = Aer.get_backend('statevector_simulator')\n",
    "final_state = execute(circuit,backend).result().get_statevector()\n",
    "\n",
    "array_to_latex(final_state, pretext=\"\\\\text{Statevector = }\")"
   ]
  },
  {
   "cell_type": "markdown",
   "metadata": {},
   "source": [
    "#### 2.1.2 Adding identity error to qubit Q1\n",
    "The I-gate will not change Q1. This can also be shown by the state vector of the circuit simulated with identity error at Q1 before CNOT."
   ]
  },
  {
   "cell_type": "code",
   "execution_count": 420,
   "metadata": {},
   "outputs": [
    {
     "data": {
      "image/png": "[encoded data removed]",
      "text/plain": [
       "<Figure size 206.852x204.68 with 1 Axes>"
      ]
     },
     "execution_count": 420,
     "metadata": {},
     "output_type": "execute_result"
    }
   ],
   "source": [
    "qreg_q = QuantumRegister(2, 'q')\n",
    "creg_c = ClassicalRegister(2, 'c')\n",
    "circuit = QuantumCircuit(qreg_q, creg_c)\n",
    "\n",
    "#### Bell State ####\n",
    "circuit.h(0) # Hadamard Gate at Q0\n",
    "             # No Gate to Q1\n",
    "             # CNOT Gate to Q0 & Q1 after error gate\n",
    "\n",
    "circuit.i(1) # Add Identity Error to Q1\n",
    "\n",
    "circuit.cx(0,1) # CNOT Gate to Q0 & Q1 for Bell State\n",
    "\n",
    "circuit.draw()"
   ]
  },
  {
   "cell_type": "code",
   "execution_count": 421,
   "metadata": {},
   "outputs": [
    {
     "data": {
      "text/latex": [
       "$\\displaystyle \n",
       "\\text{Statevector = }\\begin{bmatrix}\n",
       "\\tfrac{1}{\\sqrt{2}} \\\\\n",
       "0 \\\\\n",
       "0 \\\\\n",
       "\\tfrac{1}{\\sqrt{2}}\n",
       "\\end{bmatrix}\n",
       "$"
      ],
      "text/plain": [
       "<IPython.core.display.Math object>"
      ]
     },
     "metadata": {},
     "output_type": "display_data"
    }
   ],
   "source": [
    "backend = Aer.get_backend('statevector_simulator')\n",
    "final_state = execute(circuit,backend).result().get_statevector()\n",
    "\n",
    "array_to_latex(final_state, pretext=\"\\\\text{Statevector = }\")"
   ]
  },
  {
   "cell_type": "markdown",
   "metadata": {},
   "source": [
    "### 2.2 The X Gate (Bit-Flip Error)\n",
    "\n",
    "The X-gate is represented by the Pauli-X matrix:\n",
    "\n",
    "$$ X = \\begin{bmatrix} 0 & 1 \\\\ 1 & 0 \\end{bmatrix}$$\n",
    "\n",
    "The X-gate flips the spin of the qubit. It changes $|0\\rangle$ to $|1\\rangle$ and $|0\\rangle$ to $|1\\rangle$.\n",
    "\n",
    "<br> <br>\n",
    "\n",
    "#### 2.2.1 Adding bit-flip error to Q0 before CNOT gate\n",
    "\n",
    "$$ X|+\\rangle = X[\\tfrac{1}{\\sqrt{2}}(|0\\rangle+|1\\rangle)] = \\tfrac{1}{\\sqrt{2}}(X|0\\rangle+X|1\\rangle) = \\tfrac{1}{\\sqrt{2}}(|1\\rangle+|0\\rangle) = |+\\rangle$$\n",
    "\n",
    "So, the X-gate will not change Q0. \n",
    "\n",
    "This can also be shown by the state vector of the circuit simulated with bit-flip error at Q0 before CNOT.\n"
   ]
  },
  {
   "cell_type": "code",
   "execution_count": 422,
   "metadata": {},
   "outputs": [
    {
     "data": {
      "image/png": "[encoded data removed]",
      "text/plain": [
       "<Figure size 267.052x204.68 with 1 Axes>"
      ]
     },
     "execution_count": 422,
     "metadata": {},
     "output_type": "execute_result"
    }
   ],
   "source": [
    "qreg_q = QuantumRegister(2, 'q')\n",
    "creg_c = ClassicalRegister(2, 'c')\n",
    "circuit = QuantumCircuit(qreg_q, creg_c)\n",
    "\n",
    "#### Bell State ####\n",
    "circuit.h(0) # Hadamard Gate at Q0\n",
    "             # No Gate to Q1\n",
    "             # CNOT Gate to Q0 & Q1 after error gate\n",
    "\n",
    "circuit.x(0) # Add Bit-Flip Error to Q0\n",
    "\n",
    "circuit.cx(0,1) # CNOT Gate to Q0 & Q1 for Bell State\n",
    "\n",
    "circuit.draw()"
   ]
  },
  {
   "cell_type": "code",
   "execution_count": 423,
   "metadata": {
    "scrolled": true
   },
   "outputs": [
    {
     "data": {
      "text/latex": [
       "$\\displaystyle \n",
       "\\text{Statevector = }\\begin{bmatrix}\n",
       "\\tfrac{1}{\\sqrt{2}} \\\\\n",
       "0 \\\\\n",
       "0 \\\\\n",
       "\\tfrac{1}{\\sqrt{2}}\n",
       "\\end{bmatrix}\n",
       "$"
      ],
      "text/plain": [
       "<IPython.core.display.Math object>"
      ]
     },
     "metadata": {},
     "output_type": "display_data"
    }
   ],
   "source": [
    "backend = Aer.get_backend('statevector_simulator')\n",
    "final_state = execute(circuit,backend).result().get_statevector()\n",
    "\n",
    "array_to_latex(final_state, pretext=\"\\\\text{Statevector = }\")"
   ]
  },
  {
   "cell_type": "markdown",
   "metadata": {},
   "source": [
    "#### 2.2.2 Adding bit-flip error to Q1\n",
    "\n",
    "$$ X|0\\rangle = |1\\rangle$$\n",
    "\n",
    "So, the X-gate changes the spin of Q1 or the bit of the qubit is flipped. \n",
    "\n",
    "This can also be shown by the state vector of the circuit simulated with bit-flip error at Q1 before CNOT."
   ]
  },
  {
   "cell_type": "code",
   "execution_count": 424,
   "metadata": {},
   "outputs": [
    {
     "data": {
      "image/png": "[encoded data removed]",
      "text/plain": [
       "<Figure size 206.852x204.68 with 1 Axes>"
      ]
     },
     "execution_count": 424,
     "metadata": {},
     "output_type": "execute_result"
    }
   ],
   "source": [
    "qreg_q = QuantumRegister(2, 'q')\n",
    "creg_c = ClassicalRegister(2, 'c')\n",
    "circuit = QuantumCircuit(qreg_q, creg_c)\n",
    "\n",
    "#### Bell State ####\n",
    "circuit.h(0) # Hadamard Gate at Q0\n",
    "             # No Gate to Q1\n",
    "             # CNOT Gate to Q0 & Q1 after error gate\n",
    "\n",
    "circuit.x(1) # Add Bit-Flip Error to Q0\n",
    "\n",
    "circuit.cx(0,1) # CNOT Gate to Q0 & Q1 for Bell State\n",
    "\n",
    "circuit.draw()"
   ]
  },
  {
   "cell_type": "code",
   "execution_count": 425,
   "metadata": {},
   "outputs": [
    {
     "data": {
      "text/latex": [
       "$\\displaystyle \n",
       "\\text{Statevector = }\\begin{bmatrix}\n",
       "0 \\\\\n",
       "\\tfrac{1}{\\sqrt{2}} \\\\\n",
       "\\tfrac{1}{\\sqrt{2}} \\\\\n",
       "0\n",
       "\\end{bmatrix}\n",
       "$"
      ],
      "text/plain": [
       "<IPython.core.display.Math object>"
      ]
     },
     "metadata": {},
     "output_type": "display_data"
    }
   ],
   "source": [
    "backend = Aer.get_backend('statevector_simulator')\n",
    "final_state = execute(circuit,backend).result().get_statevector()\n",
    "\n",
    "array_to_latex(final_state, pretext=\"\\\\text{Statevector = }\")"
   ]
  },
  {
   "cell_type": "markdown",
   "metadata": {},
   "source": [
    "### 2.3 The Z Gate (Sign-Flip Error)\n",
    "\n",
    "The Z-gate is represented by the Pauli-Z matrix:\n",
    "\n",
    "$$ Z = \\begin{bmatrix} 1 & 0 \\\\ 0 & -1 \\end{bmatrix} $$\n",
    "\n",
    "The Z gate flips the phase of the qubit. It changes $|0\\rangle$ to $|0\\rangle$ and $|1\\rangle$ to $-|1\\rangle$.\n",
    "\n",
    "<br> <br>\n",
    "\n",
    "#### 2.3.1 Adding sign-flip error to Q0\n",
    "\n",
    "$$ Z|+\\rangle = Z[\\tfrac{1}{\\sqrt{2}}(|0\\rangle+|1\\rangle)] = \\tfrac{1}{\\sqrt{2}}(Z|0\\rangle+Z|1\\rangle) = \\tfrac{1}{\\sqrt{2}}(|0\\rangle-|1\\rangle) = |-\\rangle$$\n",
    "\n",
    "So, the Z gate changes the phase of Q0 or the sign of the superposition is flipped. \n",
    "\n",
    "This can also be shown by the state vector of the circuit simulated with sign-flip error at Q0 before CNOT."
   ]
  },
  {
   "cell_type": "code",
   "execution_count": 426,
   "metadata": {},
   "outputs": [
    {
     "data": {
      "image/png": "[encoded data removed]",
      "text/plain": [
       "<Figure size 267.052x204.68 with 1 Axes>"
      ]
     },
     "execution_count": 426,
     "metadata": {},
     "output_type": "execute_result"
    }
   ],
   "source": [
    "qreg_q = QuantumRegister(2, 'q')\n",
    "creg_c = ClassicalRegister(2, 'c')\n",
    "circuit = QuantumCircuit(qreg_q, creg_c)\n",
    "\n",
    "#### Bell State ####\n",
    "circuit.h(0) # Hadamard Gate at Q0\n",
    "             # No Gate to Q1\n",
    "             # CNOT Gate to Q0 & Q1 after error gate\n",
    "\n",
    "circuit.z(0) # Add Bit-Flip Error to Q0\n",
    "\n",
    "circuit.cx(0,1) # CNOT Gate to Q0 & Q1 for Bell State\n",
    "\n",
    "circuit.draw() # Draw the circuit"
   ]
  },
  {
   "cell_type": "code",
   "execution_count": 427,
   "metadata": {},
   "outputs": [
    {
     "data": {
      "text/latex": [
       "$\\displaystyle \n",
       "\\text{Statevector = }\\begin{bmatrix}\n",
       "\\tfrac{1}{\\sqrt{2}} \\\\\n",
       "0 \\\\\n",
       "0 \\\\\n",
       "-\\tfrac{1}{\\sqrt{2}}\n",
       "\\end{bmatrix}\n",
       "$"
      ],
      "text/plain": [
       "<IPython.core.display.Math object>"
      ]
     },
     "metadata": {},
     "output_type": "display_data"
    }
   ],
   "source": [
    "backend = Aer.get_backend('statevector_simulator')\n",
    "final_state = execute(circuit,backend).result().get_statevector()\n",
    "\n",
    "array_to_latex(final_state, pretext=\"\\\\text{Statevector = }\")"
   ]
  },
  {
   "cell_type": "markdown",
   "metadata": {},
   "source": [
    "#### 2.3.2 Adding sign-flip error to Q1\n",
    "$$Z|0\\rangle = |0\\rangle$$\n",
    "So, the Z gate will not change Q1. \n",
    "\n",
    "This can also be shown by the state vector of the circuit simulated with sign-flip error at Q1 before CNOT."
   ]
  },
  {
   "cell_type": "code",
   "execution_count": 428,
   "metadata": {},
   "outputs": [
    {
     "data": {
      "image/png": "[encoded data removed]",
      "text/plain": [
       "<Figure size 206.852x204.68 with 1 Axes>"
      ]
     },
     "execution_count": 428,
     "metadata": {},
     "output_type": "execute_result"
    }
   ],
   "source": [
    "qreg_q = QuantumRegister(2, 'q')\n",
    "creg_c = ClassicalRegister(2, 'c')\n",
    "circuit = QuantumCircuit(qreg_q, creg_c)\n",
    "\n",
    "#### Bell State ####\n",
    "circuit.h(0) # Hadamard Gate at Q0\n",
    "             # No Gate to Q1\n",
    "             # CNOT Gate to Q0 & Q1 after error gate\n",
    "\n",
    "circuit.z(1) # Add Sign-Flip Error to Q1\n",
    "\n",
    "circuit.cx(0,1) # CNOT Gate to Q0 & Q1 for Bell State\n",
    "\n",
    "circuit.draw() # Draw the circuit"
   ]
  },
  {
   "cell_type": "code",
   "execution_count": 429,
   "metadata": {},
   "outputs": [
    {
     "data": {
      "text/latex": [
       "$\\displaystyle \n",
       "\\text{Statevector = }\\begin{bmatrix}\n",
       "\\tfrac{1}{\\sqrt{2}} \\\\\n",
       "0 \\\\\n",
       "0 \\\\\n",
       "\\tfrac{1}{\\sqrt{2}}\n",
       "\\end{bmatrix}\n",
       "$"
      ],
      "text/plain": [
       "<IPython.core.display.Math object>"
      ]
     },
     "metadata": {},
     "output_type": "display_data"
    }
   ],
   "source": [
    "backend = Aer.get_backend('statevector_simulator')\n",
    "final_state = execute(circuit,backend).result().get_statevector()\n",
    "\n",
    "array_to_latex(final_state, pretext=\"\\\\text{Statevector = }\")"
   ]
  },
  {
   "cell_type": "markdown",
   "metadata": {},
   "source": [
    "### 2.4 Conclusion\n",
    "\n",
    "We have analysed the effect of the different errors on qubits Q0 and Q1.\n",
    "\n",
    "1. Identity error does not change the state vector of the two qubits.\n",
    "2. Bit-flip error has no effect on qubit Q0, however it flips the spin of qubit Q1.\n",
    "3. Sign-flip error changes the phase of qubit Q0, however it does not change Q1."
   ]
  },
  {
   "cell_type": "markdown",
   "metadata": {},
   "source": [
    "## 3. Encoding for Errors\n",
    "\n",
    "The bit-flip code and the sign-flip code can be used for encoding the qubits to fix errors.\n",
    "\n",
    "\n",
    "### Bit-Flip Code\n",
    "**Encoding:** To encode the qubit for bit-flip error, two ancillary qubits are required. CNOT gate is applied to these ancillary with the main qubit control.\n",
    "\n",
    "**Decoding:** We encode the qubit again i.e., CNOT gate is applied to these ancillary with the main qubit as control and finally apply Toffoli gate to all the qubits to decode the main qubit.\n",
    "\n",
    "\n",
    "### Sign-Flip Code\n",
    "**Encoding:** To encode the qubit for sign-flip error, two ancillary qubits are required. H-gate is applied to the main qubit as well as the ancillary qubits. Finaly, CNOT gate is applied to these ancillary with the main qubit control.\n",
    "\n",
    "**Decoding:** For decoding the circuit for sign-flip error, two ancillary qubits are required. CNOT gate is applied to these ancillary with the main qubit control. Then, H-gate is applied to the main qubit as well as the ancillary qubits. Finally, Toffoli gate is applied to all the qubits to decode the main qubit.\n",
    "\n",
    "<br>\n",
    "\n",
    "As the errors are applied before the CNOT Gate in Bell State, the encoding need to be done before the CNOT gate.\n",
    "\n",
    "<ul>\n",
    "    <li> Q0 is changed by sign-flip errors only. The identity errors and bit-flip errors do not change it. Therefore, sign-flip code can be used to encode Q0.\n",
    "    </li>\n",
    "    <li> Q1 is changed by bit-flip errors only. The identity errors and sign-flip errors do not change it. Therefore, bit-flip code can be used to encode Q1. \n",
    "    </li>\n",
    "</ul>\n",
    "\n",
    "<br>\n",
    "\n",
    "The code given below encodes Q0 and Q1 accordingly. Sign-flip error is simulated for Q0 and bit-flip error is simulated for Q1."
   ]
  },
  {
   "cell_type": "code",
   "execution_count": 430,
   "metadata": {},
   "outputs": [],
   "source": [
    "def CNOT_ancillary(q,x,y): # CNOT Gate to ancillary qubits x, y; with q as control qubit\n",
    "    circuit.cx(q, x)\n",
    "    circuit.cx(q, y)\n",
    "\n",
    "def H_all(q,x,y): # Hadamard Gate to qubits q, x, y\n",
    "    circuit.h(q)\n",
    "    circuit.h(x)\n",
    "    circuit.h(y)"
   ]
  },
  {
   "cell_type": "code",
   "execution_count": 431,
   "metadata": {},
   "outputs": [
    {
     "data": {
      "image/png": "[encoded data removed]",
      "text/plain": [
       "<Figure size 1350.8x445.48 with 1 Axes>"
      ]
     },
     "execution_count": 431,
     "metadata": {},
     "output_type": "execute_result"
    }
   ],
   "source": [
    "qreg_q = QuantumRegister(6, 'q')\n",
    "creg_c = ClassicalRegister(2, 'c')\n",
    "circuit = QuantumCircuit(qreg_q, creg_c)\n",
    "\n",
    "#### Bell State is formed by Q0 and Q1 ####\n",
    "circuit.h(0) # Hadamard Gate at Q0\n",
    "             # No Gate to Q1\n",
    "             # CNOT Gate to Q0 & Q1 after encoding & decoding them for phase and bit flip errors respectively'''\n",
    "###########################################   \n",
    "\n",
    "#### Encoding ####\n",
    "# Encoding Q0 for Phase Flip Error #\n",
    "circuit.barrier()\n",
    "CNOT_ancillary(0,4,5) # Apply CNOT Gate to ancillary qubits Q4, Q5 with Q0 as control qubit\n",
    "H_all(0,4,5) # Apply Hadamard Gate to Q0 and ancillary qubits Q4, Q5\n",
    "\n",
    "# Encoding Q1 for Bit Flip Error #\n",
    "circuit.barrier()\n",
    "CNOT_ancillary(1,2,3) # Apply CNOT Gate to ancillary qubits Q2, Q3 with Q1 as control qubit\n",
    "#################\n",
    "\n",
    "\n",
    "##### Simulating Errors #####\n",
    "circuit.barrier()\n",
    "circuit.z(0) # Simulating Q0 for Phase Flip Error\n",
    "circuit.x(1) # Simulating Q1 for Bit Flip Error\n",
    "#############################\n",
    "\n",
    "\n",
    "#### Decoding ####\n",
    "# Decoding Q0 for Phase Flip Error #\n",
    "circuit.barrier()\n",
    "H_all(0,4,5) # Apply Hadamard Gate to Q0 and ancillary qubits Q4, Q5\n",
    "CNOT_ancillary(0,4,5) # Apply CNOT Gate to ancillary qubits Q4, Q5 with Q0 as control qubit\n",
    "circuit.ccx(4,5,0) # Toffoli Gate for decoding Q0\n",
    "\n",
    "# Decoding Q1 for Bit Flip Error #\n",
    "circuit.barrier()\n",
    "CNOT_ancillary(1,2,3) # Apply CNOT Gate to ancillary qubits Q2, Q3 with Q1 as control qubit\n",
    "circuit.ccx(2,3,1) # Toffoli Gate for decoding Q1\n",
    "#################\n",
    "\n",
    "\n",
    "circuit.barrier()\n",
    "circuit.cx(0,1) # CNOT Gate at Q0 and Q1 for Bell State\n",
    "\n",
    "\n",
    "circuit.draw() # Draw the circuit"
   ]
  },
  {
   "cell_type": "code",
   "execution_count": 432,
   "metadata": {
    "scrolled": false
   },
   "outputs": [
    {
     "name": "stdout",
     "output_type": "stream",
     "text": [
      "\t\t {'00': 496, '11': 528}\n"
     ]
    },
    {
     "data": {
      "image/png": "[encoded data removed]",
      "text/plain": [
       "<Figure size 504x360 with 1 Axes>"
      ]
     },
     "execution_count": 432,
     "metadata": {},
     "output_type": "execute_result"
    }
   ],
   "source": [
    "# Create a Quantum Circuit\n",
    "meas = QuantumCircuit(6, 2)\n",
    "meas.measure(range(2), range(2))\n",
    "\n",
    "qc = circuit + meas\n",
    "\n",
    "backend_sim = Aer.get_backend('qasm_simulator') # Use Aer's qasm_simulator\n",
    "\n",
    "# Execute the circuit on the qasm simulator.\n",
    "job_sim = execute(qc, backend_sim, shots=1024) # The number of repeats of the circuit is 1024\n",
    "result_sim = job_sim.result() # Grab the results from the job.\n",
    "\n",
    "counts = result_sim.get_counts(qc)\n",
    "print(\"\\t\\t\", counts)\n",
    "\n",
    "plot_histogram(counts) # Plot Histogram for Bell State"
   ]
  },
  {
   "cell_type": "markdown",
   "metadata": {},
   "source": [
    "When histogram of the probabilities of the outcomes of the final state is plotted, we observe that the state has approximately 50% probability of being measured in the state $|00\\rangle$, and 50% chance of being measured in the state $|11\\rangle$. So, the encoding fixes sign-flip error at Q0 and bit-flip error at Q1 before CNOT gate of Bell state.\n",
    "\n",
    "<br>\n",
    "\n",
    "## 4. Measurement\n",
    "\n",
    "Measurements are taken after simulating for different errors.\n",
    "<ul> \n",
    "    <li> Identity error does not change the state vector of the two qubits. So, we do not need to fix this.</li>\n",
    "    <li> Bit-flip error has no effect on qubit Q0 and sign-flip error does not change Q1. So, this does not need to be considered. </li>\n",
    "    <li> In the above code, the measurement of final state shows that the code fixes the combination of sign-flip error at Q0 and bit-flip error at Q1 before CNOT gate of Bell state.</li>\n",
    "\n",
    "### 4.1 Simulating all errors before CNOT gate\n",
    "\n",
    "Before the CNOT gate, all the errors gates are added:\n",
    "1. The Identity \n",
    "2. The X gate (bit-flip error) \n",
    "3. The Z gate (sign-flip error)\n"
   ]
  },
  {
   "cell_type": "code",
   "execution_count": 433,
   "metadata": {},
   "outputs": [
    {
     "data": {
      "image/png": "[encoded data removed]",
      "text/plain": [
       "<Figure size 1471.2x445.48 with 1 Axes>"
      ]
     },
     "execution_count": 433,
     "metadata": {},
     "output_type": "execute_result"
    }
   ],
   "source": [
    "qreg_q = QuantumRegister(6, 'q')\n",
    "creg_c = ClassicalRegister(2, 'c')\n",
    "circuit = QuantumCircuit(qreg_q, creg_c)\n",
    "\n",
    "\n",
    "def CNOT_ancillary(q,x,y): # CNOT Gate to ancillary qubits x, y; with q as control qubit\n",
    "    circuit.cx(q,x)\n",
    "    circuit.cx(q,y)\n",
    "\n",
    "def H_all(q,x,y): # Hadamard Gate to qubits q, x, y\n",
    "    circuit.h(q)\n",
    "    circuit.h(x)\n",
    "    circuit.h(y)\n",
    "    \n",
    "\n",
    "#### Bell State is formed by Q0 and Q1 ####\n",
    "circuit.h(0) # Hadamard Gate at Q0\n",
    "             # No Gate to Q1\n",
    "             # CNOT Gate to Q0 & Q1 after encoding & decoding them for phase and bit flip errors respectively'''\n",
    "###########################################   \n",
    "\n",
    "#### Encoding ####\n",
    "# Encoding Q0 for Sign-Flip Error #\n",
    "circuit.barrier()\n",
    "CNOT_ancillary(0,4,5) # Apply CNOT Gate to ancillary qubits Q4, Q5 with Q0 as control qubit\n",
    "H_all(0,4,5) # Apply Hadamard Gate to Q0 and ancillary qubits Q4, Q5\n",
    "\n",
    "# Encoding Q1 for Bit-Flip Error #\n",
    "circuit.barrier()\n",
    "CNOT_ancillary(1,2,3) # Apply CNOT Gate to ancillary qubits Q2, Q3 with Q1 as control qubit\n",
    "#################\n",
    "\n",
    "\n",
    "##### Simulating Errors #####\n",
    "circuit.barrier()\n",
    "# Simulating Q1 for Identity Error\n",
    "circuit.i(0) \n",
    "circuit.i(1)\n",
    "# Simulating for Bit-Flip Error\n",
    "circuit.x(0)\n",
    "circuit.x(1)\n",
    "# Simulating for Sign-Flip Error\n",
    "circuit.z(0) \n",
    "circuit.z(1)\n",
    "#############################\n",
    "\n",
    "\n",
    "#### Decoding ####\n",
    "# Decoding Q0 for Sign-Flip Error #\n",
    "circuit.barrier()\n",
    "H_all(0,4,5) # Apply Hadamard Gate to Q0 and ancillary qubits Q4, Q5\n",
    "CNOT_ancillary(0,4,5) # Apply CNOT Gate to ancillary qubits Q4, Q5 with Q0 as control qubit\n",
    "circuit.ccx(4,5,0) # Toffoli Gate for decoding Q0\n",
    "\n",
    "# Decoding Q1 for Bit-Flip Error #\n",
    "circuit.barrier()\n",
    "CNOT_ancillary(1,2,3) # Apply CNOT Gate to ancillary qubits Q2, Q3 with Q1 as control qubit\n",
    "circuit.ccx(2,3,1) # Toffoli Gate for decoding Q1\n",
    "#################\n",
    "\n",
    "\n",
    "circuit.barrier()\n",
    "circuit.cx(0,1) # CNOT Gate at Q0 and Q1 for Bell State\n",
    "\n",
    "\n",
    "circuit.draw() # Draw the circuit"
   ]
  },
  {
   "cell_type": "code",
   "execution_count": 434,
   "metadata": {},
   "outputs": [
    {
     "name": "stdout",
     "output_type": "stream",
     "text": [
      "\t\t {'00': 500, '11': 524}\n"
     ]
    },
    {
     "data": {
      "image/png": "[encoded data removed]",
      "text/plain": [
       "<Figure size 504x360 with 1 Axes>"
      ]
     },
     "execution_count": 434,
     "metadata": {},
     "output_type": "execute_result"
    }
   ],
   "source": [
    "# Create a Quantum Circuit\n",
    "meas = QuantumCircuit(6, 2)\n",
    "meas.measure(range(2), range(2))\n",
    "\n",
    "qc = circuit + meas\n",
    "\n",
    "backend_sim = Aer.get_backend('qasm_simulator') # Use Aer's qasm_simulator\n",
    "\n",
    "# Execute the circuit on the qasm simulator.\n",
    "job_sim = execute(qc, backend_sim, shots=1024) # The number of repeats of the circuit is 1024\n",
    "result_sim = job_sim.result() # Grab the results from the job.\n",
    "\n",
    "counts = result_sim.get_counts(qc)\n",
    "print(\"\\t\\t\", counts)\n",
    "\n",
    "plot_histogram(counts) # Plot Histogram for Bell State"
   ]
  },
  {
   "cell_type": "markdown",
   "metadata": {},
   "source": [
    "When histogram of the probabilities of the outcomes of the final state is plotted, we observe that the state has approximately 50% probability of being measured in the state $|00\\rangle$, and 50% chance of being measured in the state $|11\\rangle$. The measurement of final state shows that the code fixes the combination of identity error, bit-flip error and sign-flip error at both the qubits before CNOT gate of Bell state.\n",
    "\n",
    "<br>\n",
    "\n",
    "### 4.2 Simulating the circuit without any errors\n",
    "No errors gates are added before the CNOT gate."
   ]
  },
  {
   "cell_type": "code",
   "execution_count": 435,
   "metadata": {},
   "outputs": [
    {
     "data": {
      "image/png": "[encoded data removed]",
      "text/plain": [
       "<Figure size 1290.6x445.48 with 1 Axes>"
      ]
     },
     "execution_count": 435,
     "metadata": {},
     "output_type": "execute_result"
    }
   ],
   "source": [
    "qreg_q = QuantumRegister(6, 'q')\n",
    "creg_c = ClassicalRegister(2, 'c')\n",
    "circuit = QuantumCircuit(qreg_q, creg_c)\n",
    "\n",
    "\n",
    "def CNOT_ancillary(q,x,y): # CNOT Gate to ancillary qubits x, y; with q as control qubit\n",
    "    circuit.cx(q,x)\n",
    "    circuit.cx(q,y)\n",
    "\n",
    "def H_all(q,x,y): # Hadamard Gate to qubits q, x, y\n",
    "    circuit.h(q)\n",
    "    circuit.h(x)\n",
    "    circuit.h(y)\n",
    "    \n",
    "\n",
    "#### Bell State is formed by Q0 and Q1 ####\n",
    "circuit.h(0) # Hadamard Gate at Q0\n",
    "             # No Gate to Q1\n",
    "             # CNOT Gate to Q0 & Q1 after encoding & decoding them for phase and bit flip errors respectively'''\n",
    "###########################################   \n",
    "\n",
    "#### Encoding ####\n",
    "# Encoding Q0 for Sign-Flip Error #\n",
    "circuit.barrier()\n",
    "CNOT_ancillary(0,4,5) # Apply CNOT Gate to ancillary qubits Q4, Q5 with Q0 as control qubit\n",
    "H_all(0,4,5) # Apply Hadamard Gate to Q0 and ancillary qubits Q4, Q5\n",
    "\n",
    "# Encoding Q1 for Bit-Flip Error #\n",
    "circuit.barrier()\n",
    "CNOT_ancillary(1,2,3) # Apply CNOT Gate to ancillary qubits Q2, Q3 with Q1 as control qubit\n",
    "#################\n",
    "\n",
    "\n",
    "##### Simulating Errors #####\n",
    "circuit.barrier()\n",
    "# No error is simulated\n",
    "#############################\n",
    "\n",
    "\n",
    "#### Decoding ####\n",
    "# Decoding Q0 for Sign-Flip Error #\n",
    "circuit.barrier()\n",
    "H_all(0,4,5) # Apply Hadamard Gate to Q0 and ancillary qubits Q4, Q5\n",
    "CNOT_ancillary(0,4,5) # Apply CNOT Gate to ancillary qubits Q4, Q5 with Q0 as control qubit\n",
    "circuit.ccx(4,5,0) # Toffoli Gate for decoding Q0\n",
    "\n",
    "# Decoding Q1 for Bit-Flip Error #\n",
    "circuit.barrier()\n",
    "CNOT_ancillary(1,2,3) # Apply CNOT Gate to ancillary qubits Q2, Q3 with Q1 as control qubit\n",
    "circuit.ccx(2,3,1) # Toffoli Gate for decoding Q1\n",
    "#################\n",
    "\n",
    "\n",
    "circuit.barrier()\n",
    "circuit.cx(0,1) # CNOT Gate at Q0 and Q1 for Bell State\n",
    "\n",
    "circuit.draw() # Draw the circuit"
   ]
  },
  {
   "cell_type": "code",
   "execution_count": 436,
   "metadata": {},
   "outputs": [
    {
     "name": "stdout",
     "output_type": "stream",
     "text": [
      "\t\t {'00': 510, '11': 514}\n"
     ]
    },
    {
     "data": {
      "image/png": "[encoded data removed]",
      "text/plain": [
       "<Figure size 504x360 with 1 Axes>"
      ]
     },
     "execution_count": 436,
     "metadata": {},
     "output_type": "execute_result"
    }
   ],
   "source": [
    "# Create a Quantum Circuit\n",
    "meas = QuantumCircuit(6, 2)\n",
    "meas.measure(range(2), range(2))\n",
    "\n",
    "qc = circuit + meas\n",
    "\n",
    "backend_sim = Aer.get_backend('qasm_simulator') # Use Aer's qasm_simulator\n",
    "\n",
    "# Execute the circuit on the qasm simulator.\n",
    "job_sim = execute(qc, backend_sim, shots=1024) # The number of repeats of the circuit is 1024\n",
    "result_sim = job_sim.result() # Grab the results from the job.\n",
    "\n",
    "counts = result_sim.get_counts(qc)\n",
    "print(\"\\t\\t\", counts)\n",
    "\n",
    "plot_histogram(counts) # Plot Histogram for Bell State"
   ]
  },
  {
   "cell_type": "markdown",
   "metadata": {},
   "source": [
    "When histogram of the probabilities of the outcomes of the final state is plotted, we observe that the state has approximately 50% probability of being measured in the state $|00\\rangle$, and 50% chance of being measured in the state $|11\\rangle$. The measurement of final state shows that the results are not affected even when no error gates are present.\n",
    "\n",
    "<br>\n",
    "\n",
    "### 4.3 Simulating the circuit with sign-flip error at Q0\n",
    "Z-gate is applied to Q0 for simulating sign-flip error at Q0."
   ]
  },
  {
   "cell_type": "code",
   "execution_count": 437,
   "metadata": {},
   "outputs": [
    {
     "data": {
      "image/png": "[encoded data removed]",
      "text/plain": [
       "<Figure size 1350.8x445.48 with 1 Axes>"
      ]
     },
     "execution_count": 437,
     "metadata": {},
     "output_type": "execute_result"
    }
   ],
   "source": [
    "qreg_q = QuantumRegister(6, 'q')\n",
    "creg_c = ClassicalRegister(2, 'c')\n",
    "circuit = QuantumCircuit(qreg_q, creg_c)\n",
    "\n",
    "\n",
    "def CNOT_ancillary(q,x,y): # CNOT Gate to ancillary qubits x, y; with q as control qubit\n",
    "    circuit.cx(q,x)\n",
    "    circuit.cx(q,y)\n",
    "\n",
    "def H_all(q,x,y): # Hadamard Gate to qubits q, x, y\n",
    "    circuit.h(q)\n",
    "    circuit.h(x)\n",
    "    circuit.h(y)\n",
    "    \n",
    "\n",
    "#### Bell State is formed by Q0 and Q1 ####\n",
    "circuit.h(0) # Hadamard Gate at Q0\n",
    "             # No Gate to Q1\n",
    "             # CNOT Gate to Q0 & Q1 after encoding & decoding them for phase and bit flip errors respectively'''\n",
    "###########################################   \n",
    "\n",
    "#### Encoding ####\n",
    "# Encoding Q0 for Sign-Flip Error #\n",
    "circuit.barrier()\n",
    "CNOT_ancillary(0,4,5) # Apply CNOT Gate to ancillary qubits Q4, Q5 with Q0 as control qubit\n",
    "H_all(0,4,5) # Apply Hadamard Gate to Q0 and ancillary qubits Q4, Q5\n",
    "\n",
    "# Encoding Q1 for Bit-Flip Error #\n",
    "circuit.barrier()\n",
    "CNOT_ancillary(1,2,3) # Apply CNOT Gate to ancillary qubits Q2, Q3 with Q1 as control qubit\n",
    "#################\n",
    "\n",
    "\n",
    "##### Simulating Errors #####\n",
    "circuit.barrier()\n",
    "circuit.z(0)\n",
    "#############################\n",
    "\n",
    "\n",
    "#### Decoding ####\n",
    "# Decoding Q0 for Sign-Flip Error #\n",
    "circuit.barrier()\n",
    "H_all(0,4,5) # Apply Hadamard Gate to Q0 and ancillary qubits Q4, Q5\n",
    "CNOT_ancillary(0,4,5) # Apply CNOT Gate to ancillary qubits Q4, Q5 with Q0 as control qubit\n",
    "circuit.ccx(4,5,0) # Toffoli Gate for decoding Q0\n",
    "\n",
    "# Decoding Q1 for Bit-Flip Error #\n",
    "circuit.barrier()\n",
    "CNOT_ancillary(1,2,3) # Apply CNOT Gate to ancillary qubits Q2, Q3 with Q1 as control qubit\n",
    "circuit.ccx(2,3,1) # Toffoli Gate for decoding Q1\n",
    "#################\n",
    "\n",
    "\n",
    "circuit.barrier()\n",
    "circuit.cx(0,1) # CNOT Gate at Q0 and Q1 for Bell State\n",
    "\n",
    "circuit.draw() # Draw the circuit"
   ]
  },
  {
   "cell_type": "code",
   "execution_count": 438,
   "metadata": {},
   "outputs": [
    {
     "name": "stdout",
     "output_type": "stream",
     "text": [
      "\t\t {'00': 546, '11': 478}\n"
     ]
    },
    {
     "data": {
      "image/png": "[encoded data removed]",
      "text/plain": [
       "<Figure size 504x360 with 1 Axes>"
      ]
     },
     "execution_count": 438,
     "metadata": {},
     "output_type": "execute_result"
    }
   ],
   "source": [
    "# Create a Quantum Circuit\n",
    "meas = QuantumCircuit(6, 2)\n",
    "meas.measure(range(2), range(2))\n",
    "\n",
    "qc = circuit + meas\n",
    "\n",
    "backend_sim = Aer.get_backend('qasm_simulator') # Use Aer's qasm_simulator\n",
    "\n",
    "# Execute the circuit on the qasm simulator.\n",
    "job_sim = execute(qc, backend_sim, shots=1024) # The number of repeats of the circuit is 1024\n",
    "result_sim = job_sim.result() # Grab the results from the job.\n",
    "\n",
    "counts = result_sim.get_counts(qc)\n",
    "print(\"\\t\\t\", counts)\n",
    "\n",
    "plot_histogram(counts) # Plot Histogram for Bell State"
   ]
  },
  {
   "cell_type": "markdown",
   "metadata": {},
   "source": [
    "When histogram of the probabilities of the outcomes of the final state is plotted, we observe that the state has approximately 50% probability of being measured in the state $|00\\rangle$, and 50% chance of being measured in the state $|11\\rangle$. The measurement of final state shows that the code fixes sign-flip error at Q0 before CNOT gate of Bell state.\n",
    "\n",
    "<br>\n",
    "\n",
    "### 4.4 Simulating the circuit with bit-flip error at Q1\n",
    "X-gate is applied to Q0 for simulating bit-flip error at Q1."
   ]
  },
  {
   "cell_type": "code",
   "execution_count": 439,
   "metadata": {},
   "outputs": [
    {
     "data": {
      "image/png": "[encoded data removed]",
      "text/plain": [
       "<Figure size 1350.8x445.48 with 1 Axes>"
      ]
     },
     "execution_count": 439,
     "metadata": {},
     "output_type": "execute_result"
    }
   ],
   "source": [
    "qreg_q = QuantumRegister(6, 'q')\n",
    "creg_c = ClassicalRegister(2, 'c')\n",
    "circuit = QuantumCircuit(qreg_q, creg_c)\n",
    "\n",
    "\n",
    "def CNOT_ancillary(q,x,y): # CNOT Gate to ancillary qubits x, y; with q as control qubit\n",
    "    circuit.cx(q,x)\n",
    "    circuit.cx(q,y)\n",
    "\n",
    "def H_all(q,x,y): # Hadamard Gate to qubits q, x, y\n",
    "    circuit.h(q)\n",
    "    circuit.h(x)\n",
    "    circuit.h(y)\n",
    "    \n",
    "\n",
    "#### Bell State is formed by Q0 and Q1 ####\n",
    "circuit.h(0) # Hadamard Gate at Q0\n",
    "             # No Gate to Q1\n",
    "             # CNOT Gate to Q0 & Q1 after encoding & decoding them for phase and bit flip errors respectively'''\n",
    "###########################################   \n",
    "\n",
    "#### Encoding ####\n",
    "# Encoding Q0 for Sign-Flip Error #\n",
    "circuit.barrier()\n",
    "CNOT_ancillary(0,4,5) # Apply CNOT Gate to ancillary qubits Q4, Q5 with Q0 as control qubit\n",
    "H_all(0,4,5) # Apply Hadamard Gate to Q0 and ancillary qubits Q4, Q5\n",
    "\n",
    "# Encoding Q1 for Bit-Flip Error #\n",
    "circuit.barrier()\n",
    "CNOT_ancillary(1,2,3) # Apply CNOT Gate to ancillary qubits Q2, Q3 with Q1 as control qubit\n",
    "#################\n",
    "\n",
    "\n",
    "##### Simulating Errors #####\n",
    "circuit.barrier()\n",
    "circuit.x(1)\n",
    "#############################\n",
    "\n",
    "\n",
    "#### Decoding ####\n",
    "# Decoding Q0 for Sign-Flip Error #\n",
    "circuit.barrier()\n",
    "H_all(0,4,5) # Apply Hadamard Gate to Q0 and ancillary qubits Q4, Q5\n",
    "CNOT_ancillary(0,4,5) # Apply CNOT Gate to ancillary qubits Q4, Q5 with Q0 as control qubit\n",
    "circuit.ccx(4,5,0) # Toffoli Gate for decoding Q0\n",
    "\n",
    "# Decoding Q1 for Bit-Flip Error #\n",
    "circuit.barrier()\n",
    "CNOT_ancillary(1,2,3) # Apply CNOT Gate to ancillary qubits Q2, Q3 with Q1 as control qubit\n",
    "circuit.ccx(2,3,1) # Toffoli Gate for decoding Q1\n",
    "#################\n",
    "\n",
    "\n",
    "circuit.barrier()\n",
    "circuit.cx(0,1) # CNOT Gate at Q0 and Q1 for Bell State\n",
    "\n",
    "circuit.draw() # Draw the circuit"
   ]
  },
  {
   "cell_type": "code",
   "execution_count": 440,
   "metadata": {},
   "outputs": [
    {
     "name": "stdout",
     "output_type": "stream",
     "text": [
      "\t\t {'00': 516, '11': 508}\n"
     ]
    },
    {
     "data": {
      "image/png": "[encoded data removed]",
      "text/plain": [
       "<Figure size 504x360 with 1 Axes>"
      ]
     },
     "execution_count": 440,
     "metadata": {},
     "output_type": "execute_result"
    }
   ],
   "source": [
    "# Create a Quantum Circuit\n",
    "meas = QuantumCircuit(6, 2)\n",
    "meas.measure(range(2), range(2))\n",
    "\n",
    "qc = circuit + meas\n",
    "\n",
    "backend_sim = Aer.get_backend('qasm_simulator') # Use Aer's qasm_simulator\n",
    "\n",
    "# Execute the circuit on the qasm simulator.\n",
    "job_sim = execute(qc, backend_sim, shots=1024) # The number of repeats of the circuit is 1024\n",
    "result_sim = job_sim.result() # Grab the results from the job.\n",
    "\n",
    "counts = result_sim.get_counts(qc)\n",
    "print(\"\\t\\t\", counts)\n",
    "\n",
    "plot_histogram(counts) # Plot Histogram for Bell State"
   ]
  },
  {
   "cell_type": "markdown",
   "metadata": {},
   "source": [
    "When histogram of the probabilities of the outcomes of the final state is plotted, we observe that the state has approximately 50% probability of being measured in the state $|00\\rangle$, and 50% chance of being measured in the state $|11\\rangle$. The measurement of final state shows that the code fixes bit-flip error at Q1 before CNOT gate of Bell state.\n",
    "\n",
    "<br>\n",
    "\n",
    "## 4.5 Conclusion\n",
    "\n",
    "Measurements are taken and analysed after simulating for different errors. The measurement of final state for different cases shows that:\n",
    "\n",
    "<ul> \n",
    "    <li>The code fixes sign-flip error at Q0 and bit-flip error at Q1 before CNOT gate of Bell state. \n",
    "    </li>\n",
    "    <li>The code fixes the combination of identity error, bit-flip error and sign-flip error at both the qubits before CNOT gate of Bell state. \n",
    "    </li>\n",
    "    <li>Simulating without any errors before CNOT gate of Bell state, does not change the final state. \n",
    "    </li>\n",
    "    <li>The code fixes sign-flip error at Q0 before CNOT gate of Bell state. \n",
    "    </li>\n",
    "    <li>The code fixes bit-flip error at Q1 before CNOT gate of Bell state. \n",
    "    </li>\n",
    "</ul>\n",
    "\n",
    "Hence, the code can be used to encode and decode each of the two qubits, in such a way that all the possible choices for the error gates (I-gate, X-gate and Z-gate) applied before CNOT gate of the Bell State, occurring on the logical qubits, can be detected and fixed.\n"
   ]
  }
 ],
 "metadata": {
  "kernelspec": {
   "display_name": "Python 3",
   "language": "python",
   "name": "python3"
  },
  "language_info": {
   "codemirror_mode": {
    "name": "ipython",
    "version": 3
   },
   "file_extension": ".py",
   "mimetype": "text/x-python",
   "name": "python",
   "nbconvert_exporter": "python",
   "pygments_lexer": "ipython3",
   "version": "3.8.6"
  }
 },
 "nbformat": 4,
 "nbformat_minor": 4
}
