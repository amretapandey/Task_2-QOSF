{
 "cells": [
  {
   "cell_type": "markdown",
   "metadata": {},
   "source": [
    "# Task 2 - QOSF Screening Tasks (cohort3)\n",
    "\n",
    "## Problem Statement\n",
    "\n",
    "The bit-flip code and the sign-flip code are two very simple circuits able to detect and fix the bit-flip and the sign-flip errors, respectively.\n",
    "\n",
    "1.\tBuild the simple circuit to prepare the Bell state.\n",
    "\n",
    "2.\tNow add, right before the CNOT gate and for each of the two qubits, an arbitrary “error gate”. By error gate we mean that with a certain probability (that you can decide but   must be non-zero for all the choices) you have a 1 qubit unitary which can be either the identity, or the X gate (bit-flip error) or the Z gate (sign-flip error).\n",
    "\n",
    "3.\tEncode each of the two qubits with a sign-flip or a bit-flip code, in such a way that all the possible choices for the error gates described in 2), occurring on the logical qubits, can be detected and fixed. Motivate your choice. This is the most non-trivial part of the problem, so do it with a lot of care!\n",
    "\n",
    "4.\tTest your solution by making many measurements over the final state and testing that the results are in line with the expectations.\n",
    "\n",
    "<br> <hr>\n",
    "\n",
    "# Solution\n",
    "\n",
    "\n",
    "#### The solution has been divided into the following sections:\n",
    "<ul> <li> <a href='#imports'> Environment details and general configuration </a> </li> </ul>\n",
    "<ol>\n",
    "    <li> <a href='#1'> Bell State</a> </li>\n",
    "    <li> <a href=\"#2\"> Adding Errors</a>\n",
    "        <ul>\n",
    "            <li> <a href=\"#2.1\"> Adding the I-Gate</a> </li>\n",
    "            <li> <a href=\"#2.2\"> Adding the X-Gate</a> </li>\n",
    "            <li> <a href=\"#2.3\"> Adding the Z-Gate</a> </li>\n",
    "            <li> <a href=\"#2.4\"> Conclusion</a> </li>\n",
    "        </ul>\n",
    "    </li>\n",
    "    <li> <a href=\"#3\">Encoding for Errors</a>\n",
    "         <ul>\n",
    "            <li> <a href=\"#3.1\"> Bit-Flip Code</a> </li>\n",
    "            <li> <a href=\"#3.2\"> Sign-Flip Code</a> </li>\n",
    "            <li> <a href=\"#3.3\"> Shor Code</a> </li>\n",
    "            <li> <a href=\"#3.4\"> Approach </a>\n",
    "                <ul>\n",
    "                    <li> <a href=\"#3.4.1\"> Function for encoding the qubits for possible errors</a> </li>\n",
    "                    <li> <a href=\"#3.4.2\"> Function for decoding the encoded qubits</a> </li>\n",
    "                    <li> <a href=\"#3.4.3\"> Simulating sign-flip error at Q0 and bit-flip error at Q1 </a> </li>\n",
    "                </ul> </li> </ul> </li>\n",
    "    <li> <a href=\"#4\">Measurement and Results</a> </li>\n",
    "    <li> <a href=\"#5\"> Conclusion</a> </li>\n",
    "    <li> <a href=\"#6\">References</a> </li>\n",
    " </ol>\n",
    " \n",
    " <br>\n",
    " \n",
    " <a id='imports'></a>\n",
    " \n",
    "### Environment details and general configuration: \n"
   ]
  },
  {
   "cell_type": "code",
   "execution_count": 116,
   "metadata": {},
   "outputs": [
    {
     "data": {
      "text/plain": [
       "{'qiskit-terra': '0.16.1',\n",
       " 'qiskit-aer': '0.7.2',\n",
       " 'qiskit-ignis': '0.5.1',\n",
       " 'qiskit-ibmq-provider': '0.11.1',\n",
       " 'qiskit-aqua': '0.8.1',\n",
       " 'qiskit': '0.23.2'}"
      ]
     },
     "execution_count": 116,
     "metadata": {},
     "output_type": "execute_result"
    }
   ],
   "source": [
    "import qiskit\n",
    "qiskit.__qiskit_version__"
   ]
  },
  {
   "cell_type": "code",
   "execution_count": 117,
   "metadata": {
    "scrolled": true
   },
   "outputs": [
    {
     "name": "stdout",
     "output_type": "stream",
     "text": [
      "Standard Qiskit Libraries Successfuly Imported.\n"
     ]
    }
   ],
   "source": [
    "%matplotlib inline\n",
    "\n",
    "#Importing standard Qiskit libraries\n",
    "from qiskit import QuantumRegister, ClassicalRegister, QuantumCircuit\n",
    "from qiskit.visualization import plot_histogram\n",
    "from qiskit.tools.monitor import job_monitor\n",
    "from qiskit import QuantumCircuit, execute, Aer, IBMQ\n",
    "from qiskit_textbook.tools import array_to_latex\n",
    "\n",
    "print(\"Standard Qiskit Libraries Successfuly Imported.\")"
   ]
  },
  {
   "cell_type": "markdown",
   "metadata": {},
   "source": [
    "<a id='1'></a>\n",
    "\n",
    "## 1. Bell State\n",
    "\n",
    "_The_ _Bell_ _State_ has **50%** probability of being measured in the state $|00\\rangle$, and **50%** chance of being measured in the state $|11\\rangle$.\n",
    "\n",
    "Qubits Q0 & Q1 are used to build the Bell State.\n",
    "    \n",
    "\n",
    "1. Hadamard Gate is applied to Q0. So, $$ Q0= H|0\\rangle = |+\\rangle = \\tfrac{1}{\\sqrt{2}}(|0\\rangle+|1\\rangle)$$$$Q1= |0\\rangle$$This produces the state $|0\\rangle \\otimes |{+}\\rangle = |0{+}\\rangle$ :\n",
    "$$\n",
    "|0{+}\\rangle = \\tfrac{1}{\\sqrt{2}}(|00\\rangle + |01\\rangle)\n",
    "$$\n",
    "\n",
    "\n",
    "2. The CNOT Gate is applied to both Q0 and Q1. We have the final state as:\n",
    "\n",
    "$$\n",
    "\\text{CNOT}|0{+}\\rangle = \\tfrac{1}{\\sqrt{2}}(|00\\rangle + |11\\rangle)\n",
    "$$ \n",
    "\n",
    "So, the final circuit will be in Bell State as the probability of being measured in the state $|00\\rangle$ is $\\tfrac{1}{2}$ or 50%, and the probability of being measured in the state $|11\\rangle$ is $\\tfrac{1}{2}$ i.e., 50%.\n",
    "\n",
    "In Qiskit, Bell Sate is given as:"
   ]
  },
  {
   "cell_type": "code",
   "execution_count": 118,
   "metadata": {},
   "outputs": [
    {
     "data": {
      "image/png": "[encoded data removed]",
      "text/plain": [
       "<Figure size 206.852x204.68 with 1 Axes>"
      ]
     },
     "execution_count": 118,
     "metadata": {},
     "output_type": "execute_result"
    }
   ],
   "source": [
    "qreg_q = QuantumRegister(2, 'q')\n",
    "creg_c = ClassicalRegister(2, 'c')\n",
    "circuit = QuantumCircuit(qreg_q, creg_c)\n",
    "\n",
    "circuit.h(0)     # Hadamard Gate at Q0\n",
    "                 # No Gate to Q1\n",
    "circuit.cx(0,1)  # CNOT Gate to Q0 & Q1\n",
    "\n",
    "circuit.draw() # Draw the circuit"
   ]
  },
  {
   "cell_type": "code",
   "execution_count": 119,
   "metadata": {},
   "outputs": [
    {
     "data": {
      "text/latex": [
       "$\\displaystyle \n",
       "\\text{Statevector = }\\begin{bmatrix}\n",
       "\\tfrac{1}{\\sqrt{2}} \\\\\n",
       "0 \\\\\n",
       "0 \\\\\n",
       "\\tfrac{1}{\\sqrt{2}}\n",
       "\\end{bmatrix}\n",
       "$"
      ],
      "text/plain": [
       "<IPython.core.display.Math object>"
      ]
     },
     "metadata": {},
     "output_type": "display_data"
    }
   ],
   "source": [
    "backend = Aer.get_backend('statevector_simulator')\n",
    "final_state = execute(circuit,backend).result().get_statevector()\n",
    "\n",
    "array_to_latex(final_state, pretext=\"\\\\text{Statevector = }\") # Write state vector"
   ]
  },
  {
   "cell_type": "markdown",
   "metadata": {},
   "source": [
    "The state vector is same as: $$\\tfrac{1}{\\sqrt{2}}(|00\\rangle + |11\\rangle)$$\n",
    "\n",
    "Hence, the state has 50% probability of being measured in the state $|00\\rangle$, and 50% chance of being measured in the state $|11\\rangle$. \n",
    "\n",
    "Also, it has **0%** chance of being measured in the states $|01\\rangle$ or $|10\\rangle$. This can be shown by plotting a histogram of the probabilities of the outcomes of the circuit."
   ]
  },
  {
   "cell_type": "code",
   "execution_count": 120,
   "metadata": {},
   "outputs": [
    {
     "name": "stdout",
     "output_type": "stream",
     "text": [
      "\t\t {'00': 492, '11': 532}\n"
     ]
    },
    {
     "data": {
      "image/png": "[encoded data removed]",
      "text/plain": [
       "<Figure size 504x360 with 1 Axes>"
      ]
     },
     "execution_count": 120,
     "metadata": {},
     "output_type": "execute_result"
    }
   ],
   "source": [
    "# Create a Quantum Circuit\n",
    "meas = QuantumCircuit(2, 2)\n",
    "meas.measure(range(2), range(2))\n",
    "\n",
    "qc = circuit + meas\n",
    "\n",
    "backend_sim = Aer.get_backend('qasm_simulator') # Use Aer's qasm_simulator\n",
    "\n",
    "# Execute the circuit on the qasm simulator.\n",
    "job_sim = execute(qc, backend_sim, shots=1024) # The number of repeats of the circuit is 1024\n",
    "result_sim = job_sim.result() # Grab the results from the job.\n",
    "\n",
    "counts = result_sim.get_counts(qc)\n",
    "print(\"\\t\\t\", counts)\n",
    "\n",
    "plot_histogram(counts) # Plot Histogram for Bell State"
   ]
  },
  {
   "cell_type": "markdown",
   "metadata": {},
   "source": [
    "<a id='2'></a>\n",
    "\n",
    "## 2. Adding Errors\n",
    "\n",
    "The errors are to be added right before the CNOT gate and for each of the two qubits, an arbitrary “error gate”. Error gate is a 1 qubit unitary with a certain probability, which can be:\n",
    "1. The I-Gate (identity error)\n",
    "2. The X-Gate (bit-flip error) \n",
    "3. The Z-Gate (sign-flip error)\n",
    "\n",
    "<br>\n",
    "\n",
    "<a id='2.1'></a>\n",
    "\n",
    "### 2.1 Adding the I-Gate (Identity Error)\n",
    "\n",
    "The I-gate has no effect on the qubits. It is represented by the Identity matrix:\n",
    "\n",
    "$$ I = \\begin{bmatrix} 1 & 0 \\\\ 0 & 1 \\end{bmatrix} $$\n",
    "\n",
    "<br> <br>\n",
    "\n",
    "<a id='2.1.1'></a>\n",
    "\n",
    "#### 2.1.1 Adding identity error to qubit Q0\n",
    "\n",
    "The I-gate will not change Q0. This can also be shown by the state vector of the circuit simulated with identity error at Q0 before CNOT.\n"
   ]
  },
  {
   "cell_type": "code",
   "execution_count": 121,
   "metadata": {},
   "outputs": [
    {
     "data": {
      "image/png": "[encoded data removed]",
      "text/plain": [
       "<Figure size 267.052x204.68 with 1 Axes>"
      ]
     },
     "execution_count": 121,
     "metadata": {},
     "output_type": "execute_result"
    }
   ],
   "source": [
    "qreg_q = QuantumRegister(2, 'q')\n",
    "creg_c = ClassicalRegister(2, 'c')\n",
    "circuit = QuantumCircuit(qreg_q, creg_c)\n",
    "\n",
    "#### Bell State ####\n",
    "circuit.h(0) # Hadamard Gate at Q0\n",
    "             # No Gate to Q1\n",
    "             # CNOT Gate to Q0 & Q1 after error gate\n",
    "\n",
    "circuit.i(0) # Add Identity Error to Q0\n",
    "\n",
    "circuit.cx(0,1) # CNOT Gate to Q0 & Q1 for Bell State\n",
    "\n",
    "circuit.draw()"
   ]
  },
  {
   "cell_type": "code",
   "execution_count": 122,
   "metadata": {},
   "outputs": [
    {
     "data": {
      "text/latex": [
       "$\\displaystyle \n",
       "\\text{Statevector = }\\begin{bmatrix}\n",
       "\\tfrac{1}{\\sqrt{2}} \\\\\n",
       "0 \\\\\n",
       "0 \\\\\n",
       "\\tfrac{1}{\\sqrt{2}}\n",
       "\\end{bmatrix}\n",
       "$"
      ],
      "text/plain": [
       "<IPython.core.display.Math object>"
      ]
     },
     "metadata": {},
     "output_type": "display_data"
    }
   ],
   "source": [
    "backend = Aer.get_backend('statevector_simulator')\n",
    "final_state = execute(circuit,backend).result().get_statevector()\n",
    "\n",
    "array_to_latex(final_state, pretext=\"\\\\text{Statevector = }\")"
   ]
  },
  {
   "cell_type": "markdown",
   "metadata": {},
   "source": [
    "<a id='2.1.1'></a>\n",
    "\n",
    "#### 2.1.2 Adding identity error to qubit Q1\n",
    "The I-gate will not change Q1. This can also be shown by the state vector of the circuit simulated with identity error at Q1 before CNOT."
   ]
  },
  {
   "cell_type": "code",
   "execution_count": 123,
   "metadata": {},
   "outputs": [
    {
     "data": {
      "image/png": "[encoded data removed]",
      "text/plain": [
       "<Figure size 206.852x204.68 with 1 Axes>"
      ]
     },
     "execution_count": 123,
     "metadata": {},
     "output_type": "execute_result"
    }
   ],
   "source": [
    "qreg_q = QuantumRegister(2, 'q')\n",
    "creg_c = ClassicalRegister(2, 'c')\n",
    "circuit = QuantumCircuit(qreg_q, creg_c)\n",
    "\n",
    "#### Bell State ####\n",
    "circuit.h(0) # Hadamard Gate at Q0\n",
    "             # No Gate to Q1\n",
    "             # CNOT Gate to Q0 & Q1 after error gate\n",
    "\n",
    "circuit.i(1) # Add Identity Error to Q1\n",
    "\n",
    "circuit.cx(0,1) # CNOT Gate to Q0 & Q1 for Bell State\n",
    "\n",
    "circuit.draw()"
   ]
  },
  {
   "cell_type": "code",
   "execution_count": 124,
   "metadata": {},
   "outputs": [
    {
     "data": {
      "text/latex": [
       "$\\displaystyle \n",
       "\\text{Statevector = }\\begin{bmatrix}\n",
       "\\tfrac{1}{\\sqrt{2}} \\\\\n",
       "0 \\\\\n",
       "0 \\\\\n",
       "\\tfrac{1}{\\sqrt{2}}\n",
       "\\end{bmatrix}\n",
       "$"
      ],
      "text/plain": [
       "<IPython.core.display.Math object>"
      ]
     },
     "metadata": {},
     "output_type": "display_data"
    }
   ],
   "source": [
    "backend = Aer.get_backend('statevector_simulator')\n",
    "final_state = execute(circuit,backend).result().get_statevector()\n",
    "\n",
    "array_to_latex(final_state, pretext=\"\\\\text{Statevector = }\")"
   ]
  },
  {
   "cell_type": "markdown",
   "metadata": {},
   "source": [
    "<a id='2.2'></a>\n",
    "\n",
    "### 2.2 Adding the X-Gate (Bit-Flip Error)\n",
    "\n",
    "The X-gate is represented by the Pauli-X matrix:\n",
    "\n",
    "$$ X = \\begin{bmatrix} 0 & 1 \\\\ 1 & 0 \\end{bmatrix}$$\n",
    "\n",
    "The X-gate flips the spin of the qubit. It changes $|0\\rangle$ to $|1\\rangle$ and $|0\\rangle$ to $|1\\rangle$.\n",
    "\n",
    "<br> <br>\n",
    "\n",
    "<a id='2.2.1'></a>\n",
    "\n",
    "#### 2.2.1 Adding bit-flip error to Q0 before CNOT gate\n",
    "\n",
    "$$ X|+\\rangle = X[\\tfrac{1}{\\sqrt{2}}(|0\\rangle+|1\\rangle)] = \\tfrac{1}{\\sqrt{2}}(X|0\\rangle+X|1\\rangle) = \\tfrac{1}{\\sqrt{2}}(|1\\rangle+|0\\rangle) = |+\\rangle$$\n",
    "\n",
    "So, the X-gate will not change Q0. \n",
    "\n",
    "This can also be shown by the state vector of the circuit simulated with bit-flip error at Q0 before CNOT.\n"
   ]
  },
  {
   "cell_type": "code",
   "execution_count": 125,
   "metadata": {},
   "outputs": [
    {
     "data": {
      "image/png": "[encoded data removed]",
      "text/plain": [
       "<Figure size 267.052x204.68 with 1 Axes>"
      ]
     },
     "execution_count": 125,
     "metadata": {},
     "output_type": "execute_result"
    }
   ],
   "source": [
    "qreg_q = QuantumRegister(2, 'q')\n",
    "creg_c = ClassicalRegister(2, 'c')\n",
    "circuit = QuantumCircuit(qreg_q, creg_c)\n",
    "\n",
    "#### Bell State ####\n",
    "circuit.h(0) # Hadamard Gate at Q0\n",
    "             # No Gate to Q1\n",
    "             # CNOT Gate to Q0 & Q1 after error gate\n",
    "\n",
    "circuit.x(0) # Add Bit-Flip Error to Q0\n",
    "\n",
    "circuit.cx(0,1) # CNOT Gate to Q0 & Q1 for Bell State\n",
    "\n",
    "circuit.draw()"
   ]
  },
  {
   "cell_type": "code",
   "execution_count": 126,
   "metadata": {
    "scrolled": true
   },
   "outputs": [
    {
     "data": {
      "text/latex": [
       "$\\displaystyle \n",
       "\\text{Statevector = }\\begin{bmatrix}\n",
       "\\tfrac{1}{\\sqrt{2}} \\\\\n",
       "0 \\\\\n",
       "0 \\\\\n",
       "\\tfrac{1}{\\sqrt{2}}\n",
       "\\end{bmatrix}\n",
       "$"
      ],
      "text/plain": [
       "<IPython.core.display.Math object>"
      ]
     },
     "metadata": {},
     "output_type": "display_data"
    }
   ],
   "source": [
    "backend = Aer.get_backend('statevector_simulator')\n",
    "final_state = execute(circuit,backend).result().get_statevector()\n",
    "\n",
    "array_to_latex(final_state, pretext=\"\\\\text{Statevector = }\")"
   ]
  },
  {
   "cell_type": "markdown",
   "metadata": {},
   "source": [
    "<a id='2.2'></a>\n",
    "\n",
    "#### 2.2.2 Adding bit-flip error to Q1\n",
    "\n",
    "$$ X|0\\rangle = |1\\rangle$$\n",
    "\n",
    "So, the X-gate changes the spin of Q1 or the bit of the qubit is flipped. \n",
    "\n",
    "This can also be shown by the state vector of the circuit simulated with bit-flip error at Q1 before CNOT."
   ]
  },
  {
   "cell_type": "code",
   "execution_count": 127,
   "metadata": {},
   "outputs": [
    {
     "data": {
      "image/png": "[encoded data removed]",
      "text/plain": [
       "<Figure size 206.852x204.68 with 1 Axes>"
      ]
     },
     "execution_count": 127,
     "metadata": {},
     "output_type": "execute_result"
    }
   ],
   "source": [
    "qreg_q = QuantumRegister(2, 'q')\n",
    "creg_c = ClassicalRegister(2, 'c')\n",
    "circuit = QuantumCircuit(qreg_q, creg_c)\n",
    "\n",
    "#### Bell State ####\n",
    "circuit.h(0) # Hadamard Gate at Q0\n",
    "             # No Gate to Q1\n",
    "             # CNOT Gate to Q0 & Q1 after error gate\n",
    "\n",
    "circuit.x(1) # Add Bit-Flip Error to Q0\n",
    "\n",
    "circuit.cx(0,1) # CNOT Gate to Q0 & Q1 for Bell State\n",
    "\n",
    "circuit.draw()"
   ]
  },
  {
   "cell_type": "code",
   "execution_count": 128,
   "metadata": {},
   "outputs": [
    {
     "data": {
      "text/latex": [
       "$\\displaystyle \n",
       "\\text{Statevector = }\\begin{bmatrix}\n",
       "0 \\\\\n",
       "\\tfrac{1}{\\sqrt{2}} \\\\\n",
       "\\tfrac{1}{\\sqrt{2}} \\\\\n",
       "0\n",
       "\\end{bmatrix}\n",
       "$"
      ],
      "text/plain": [
       "<IPython.core.display.Math object>"
      ]
     },
     "metadata": {},
     "output_type": "display_data"
    }
   ],
   "source": [
    "backend = Aer.get_backend('statevector_simulator')\n",
    "final_state = execute(circuit,backend).result().get_statevector()\n",
    "\n",
    "array_to_latex(final_state, pretext=\"\\\\text{Statevector = }\")"
   ]
  },
  {
   "cell_type": "markdown",
   "metadata": {},
   "source": [
    "<a id='2.3'></a>\n",
    "\n",
    "### 2.3 Adding the Z-Gate (Sign-Flip Error)\n",
    "\n",
    "The Z-gate is represented by the Pauli-Z matrix:\n",
    "\n",
    "$$ Z = \\begin{bmatrix} 1 & 0 \\\\ 0 & -1 \\end{bmatrix} $$\n",
    "\n",
    "The Z gate flips the phase of the qubit. It changes $|0\\rangle$ to $|0\\rangle$ and $|1\\rangle$ to $-|1\\rangle$.\n",
    "\n",
    "<br> <br>\n",
    "\n",
    "<a id='2.3.1'></a>\n",
    "\n",
    "#### 2.3.1 Adding sign-flip error to Q0\n",
    "\n",
    "$$ Z|+\\rangle = Z[\\tfrac{1}{\\sqrt{2}}(|0\\rangle+|1\\rangle)] = \\tfrac{1}{\\sqrt{2}}(Z|0\\rangle+Z|1\\rangle) = \\tfrac{1}{\\sqrt{2}}(|0\\rangle-|1\\rangle) = |-\\rangle$$\n",
    "\n",
    "So, the Z gate changes the phase of Q0 or the sign of the superposition is flipped. \n",
    "\n",
    "This can also be shown by the state vector of the circuit simulated with sign-flip error at Q0 before CNOT."
   ]
  },
  {
   "cell_type": "code",
   "execution_count": 129,
   "metadata": {},
   "outputs": [
    {
     "data": {
      "image/png": "[encoded data removed]",
      "text/plain": [
       "<Figure size 267.052x204.68 with 1 Axes>"
      ]
     },
     "execution_count": 129,
     "metadata": {},
     "output_type": "execute_result"
    }
   ],
   "source": [
    "qreg_q = QuantumRegister(2, 'q')\n",
    "creg_c = ClassicalRegister(2, 'c')\n",
    "circuit = QuantumCircuit(qreg_q, creg_c)\n",
    "\n",
    "#### Bell State ####\n",
    "circuit.h(0) # Hadamard Gate at Q0\n",
    "             # No Gate to Q1\n",
    "             # CNOT Gate to Q0 & Q1 after error gate\n",
    "\n",
    "circuit.z(0) # Add Bit-Flip Error to Q0\n",
    "\n",
    "circuit.cx(0,1) # CNOT Gate to Q0 & Q1 for Bell State\n",
    "\n",
    "circuit.draw() # Draw the circuit"
   ]
  },
  {
   "cell_type": "code",
   "execution_count": 130,
   "metadata": {},
   "outputs": [
    {
     "data": {
      "text/latex": [
       "$\\displaystyle \n",
       "\\text{Statevector = }\\begin{bmatrix}\n",
       "\\tfrac{1}{\\sqrt{2}} \\\\\n",
       "0 \\\\\n",
       "0 \\\\\n",
       "-\\tfrac{1}{\\sqrt{2}}\n",
       "\\end{bmatrix}\n",
       "$"
      ],
      "text/plain": [
       "<IPython.core.display.Math object>"
      ]
     },
     "metadata": {},
     "output_type": "display_data"
    }
   ],
   "source": [
    "backend = Aer.get_backend('statevector_simulator')\n",
    "final_state = execute(circuit,backend).result().get_statevector()\n",
    "\n",
    "array_to_latex(final_state, pretext=\"\\\\text{Statevector = }\")"
   ]
  },
  {
   "cell_type": "markdown",
   "metadata": {},
   "source": [
    "\n",
    "<a id='2.3.2'></a>\n",
    "\n",
    "#### 2.3.2 Adding sign-flip error to Q1\n",
    "$$Z|0\\rangle = |0\\rangle$$\n",
    "So, the Z gate will not change Q1. \n",
    "\n",
    "This can also be shown by the state vector of the circuit simulated with sign-flip error at Q1 before CNOT."
   ]
  },
  {
   "cell_type": "code",
   "execution_count": 131,
   "metadata": {},
   "outputs": [
    {
     "data": {
      "image/png": "[encoded data removed]",
      "text/plain": [
       "<Figure size 206.852x204.68 with 1 Axes>"
      ]
     },
     "execution_count": 131,
     "metadata": {},
     "output_type": "execute_result"
    }
   ],
   "source": [
    "qreg_q = QuantumRegister(2, 'q')\n",
    "creg_c = ClassicalRegister(2, 'c')\n",
    "circuit = QuantumCircuit(qreg_q, creg_c)\n",
    "\n",
    "#### Bell State ####\n",
    "circuit.h(0) # Hadamard Gate at Q0\n",
    "             # No Gate to Q1\n",
    "             # CNOT Gate to Q0 & Q1 after error gate\n",
    "\n",
    "circuit.z(1) # Add Sign-Flip Error to Q1\n",
    "\n",
    "circuit.cx(0,1) # CNOT Gate to Q0 & Q1 for Bell State\n",
    "\n",
    "circuit.draw() # Draw the circuit"
   ]
  },
  {
   "cell_type": "code",
   "execution_count": 132,
   "metadata": {},
   "outputs": [
    {
     "data": {
      "text/latex": [
       "$\\displaystyle \n",
       "\\text{Statevector = }\\begin{bmatrix}\n",
       "\\tfrac{1}{\\sqrt{2}} \\\\\n",
       "0 \\\\\n",
       "0 \\\\\n",
       "\\tfrac{1}{\\sqrt{2}}\n",
       "\\end{bmatrix}\n",
       "$"
      ],
      "text/plain": [
       "<IPython.core.display.Math object>"
      ]
     },
     "metadata": {},
     "output_type": "display_data"
    }
   ],
   "source": [
    "backend = Aer.get_backend('statevector_simulator')\n",
    "final_state = execute(circuit,backend).result().get_statevector()\n",
    "\n",
    "array_to_latex(final_state, pretext=\"\\\\text{Statevector = }\")"
   ]
  },
  {
   "cell_type": "markdown",
   "metadata": {},
   "source": [
    "<a id='2.4'></a>\n",
    "\n",
    "### 2.4 Conclusion\n",
    "\n",
    "We have analysed the effect of the different errors on qubits Q0 and Q1.\n",
    "\n",
    "1. Identity error does not change the state vector of the two qubits.\n",
    "2. Bit-flip error has no effect on qubit Q0, however it flips the spin of qubit Q1.\n",
    "3. Sign-flip error changes the phase of qubit Q0, however it does not change Q1."
   ]
  },
  {
   "cell_type": "markdown",
   "metadata": {},
   "source": [
    "<a id='3'></a>\n",
    "\n",
    "## 3. Encoding for Errors\n",
    "\n",
    "The bit-flip code and the sign-flip code can be used for encoding the qubits to fix errors.\n",
    "\n",
    "<a id='3.1'></a>\n",
    "\n",
    "### 3.1 Bit-Flip Code\n",
    "**Encoding:** To encode the qubit for bit-flip error, two ancillary qubits are required. CNOT gate is applied to these ancillary with the main qubit control.\n",
    "\n",
    "**Decoding:** We encode the encoded qubit again i.e., CNOT gate is applied to these ancillary with the main qubit as control and finally apply Toffoli gate to all the qubits to decode the main qubit.\n",
    "\n",
    "<a id='3.2'></a>\n",
    "\n",
    "### 3.2 Sign-Flip Code\n",
    "**Encoding:** To encode the qubit for sign-flip error, two ancillary qubits are required. H-gate is applied to the main qubit as well as the ancillary qubits. Finaly, CNOT gate is applied to these ancillary with the main qubit control.\n",
    "\n",
    "**Decoding:** For decoding the encoded qubit, CNOT gate is applied to the ancillary with the main qubit control. Then, H-gate is applied to the main qubit as well as the ancillary qubits. Finally, Toffoli gate is applied to all the qubits to decode the main qubit.\n",
    "\n",
    "<br>\n",
    "\n",
    "<a id='3.3'></a>\n",
    "\n",
    "### 3.3 Shor Code\n",
    "\n",
    "It is possible to correct for both types of errors using one code i.e., **the Shor code**. With the Shor code, a qubit state ${\\displaystyle |\\psi \\rangle =\\alpha _{0}|0\\rangle +\\alpha _{1}|1\\rangle }|\\psi \\rangle =\\alpha _{0}|0\\rangle +\\alpha _{1}|1\\rangle$  will be transformed into the product of 9 qubits ${\\displaystyle |\\psi '\\rangle =\\alpha _{0}|0_{S}\\rangle +\\alpha _{1}|1_{S}\\rangle }|\\psi '\\rangle =\\alpha _{0}|0_{S}\\rangle +\\alpha _{1}|1_{S}\\rangle$. \n",
    "\n",
    "**Encoding:** The main qubit is encoded using <a href=\"#3.1\">Bit-Flip Code</a> and then all the qubits (the main qubit and the ancillary qubits of Bi-Flip) are encoded using <a href=\"#3.2\">Sign-Flip Code</a>.\n",
    "\n",
    "**Decoding:** For decoding the encoded qubit, the main qubit and the ancillary qubits of Bit-Flip code are decoded using Sign-Flip Code. Finally, the main qubit is decoded using Bit-Flip Code.\n",
    "\n",
    "<br>\n",
    "\n",
    "<a id='3.4'></a>\n",
    "\n",
    "### 3.4 Approach\n",
    "\n",
    "<ol>\n",
    "    <li>We can encode both the qubits i.e., Q0 and Q1 using the Shor's code. In this case, 16 ancillary qubits will be required (i.e., 8 qubits for each qubit to be encoded).</li>   \n",
    "    <li> As the errors are applied before the CNOT Gate in Bell State, the encoding need to be done before the CNOT gate.\n",
    "        <ul>\n",
    "            <li> Q0 is changed by sign-flip errors only. The identity errors and bit-flip errors do not change it. Therefore, sign-flip code can be used to encode Q0. </li>\n",
    "            <li> Q1 is changed by bit-flip errors only. The identity errors and sign-flip errors do not change it. Therefore, bit-flip code can be used to encode Q1. </li>\n",
    "            </ul>\n",
    "            So, the other approach for encoding the error can be encoding Q0 for sign-flip error and Q1 for bit-flip error. Hence, all the possible errors (sign-flip and bit-flip) in the two qubits can be fixed.\n",
    "        For this, only 4 ancillary qubits will be required and lesser number of gates will be needed. So this approach has been used to encode Q0 and Q1 before CNOT Gate is applied.\n",
    "         </li> </ol>\n",
    "\n",
    "<br><br>\n",
    "The functions given below will be used in the encoding and decoding process."
   ]
  },
  {
   "cell_type": "code",
   "execution_count": 133,
   "metadata": {},
   "outputs": [],
   "source": [
    "def CNOT_ancillary(q,x,y): # CNOT Gate to ancillary qubits x, y; with q as control qubit\n",
    "    circuit.cx(q, x)\n",
    "    circuit.cx(q, y)\n",
    "\n",
    "def H_all(q,x,y): # Hadamard Gate to qubits q, x, y\n",
    "    circuit.h(q)\n",
    "    circuit.h(x)\n",
    "    circuit.h(y)"
   ]
  },
  {
   "cell_type": "markdown",
   "metadata": {},
   "source": [
    "<a id='3.4.1'></a>\n",
    "\n",
    "#### 3.4.1 Function for encoding the qubits for possible errors"
   ]
  },
  {
   "cell_type": "code",
   "execution_count": 134,
   "metadata": {},
   "outputs": [],
   "source": [
    "def encode(): # Encoding for possible errors\n",
    "    \n",
    "    # Encoding Q0 for Phase Flip Error #\n",
    "    circuit.barrier()\n",
    "    CNOT_ancillary(0,4,5) # Apply CNOT Gate to ancillary qubits Q4, Q5 with Q0 as control qubit\n",
    "    H_all(0,4,5) # Apply Hadamard Gate to Q0 and ancillary qubits Q4, Q5\n",
    "    \n",
    "    # Encoding Q1 for Bit Flip Error #\n",
    "    circuit.barrier()\n",
    "    CNOT_ancillary(1,2,3) # Apply CNOT Gate to ancillary qubits Q2, Q3 with Q1 as control qubit"
   ]
  },
  {
   "cell_type": "markdown",
   "metadata": {},
   "source": [
    "<a id='3.4.2'></a>\n",
    "\n",
    "#### 3.4.2 Function for decoding the encoded qubits"
   ]
  },
  {
   "cell_type": "code",
   "execution_count": 135,
   "metadata": {},
   "outputs": [],
   "source": [
    "def decode(): # Decoding the encoded qubits\n",
    "    \n",
    "    # Decoding Q0 for Phase Flip Error #\n",
    "    circuit.barrier()\n",
    "    H_all(0,4,5) # Apply Hadamard Gate to Q0 and ancillary qubits Q4, Q5\n",
    "    CNOT_ancillary(0,4,5) # Apply CNOT Gate to ancillary qubits Q4, Q5 with Q0 as control qubit\n",
    "    circuit.ccx(4,5,0) # Toffoli Gate for decoding Q0\n",
    "    \n",
    "    # Decoding Q1 for Bit Flip Error #\n",
    "    circuit.barrier()\n",
    "    CNOT_ancillary(1,2,3) # Apply CNOT Gate to ancillary qubits Q2, Q3 with Q1 as control qubit\n",
    "    circuit.ccx(2,3,1) # Toffoli Gate for decoding Q1"
   ]
  },
  {
   "cell_type": "markdown",
   "metadata": {},
   "source": [
    "<a id='3.4.3'></a>\n",
    "\n",
    "#### 3.4.3 Simulating sign-flip error at Q0 and bit-flip error at Q1"
   ]
  },
  {
   "cell_type": "code",
   "execution_count": 136,
   "metadata": {},
   "outputs": [
    {
     "data": {
      "image/png": "[encoded data removed]",
      "text/plain": [
       "<Figure size 1350.8x445.48 with 1 Axes>"
      ]
     },
     "execution_count": 136,
     "metadata": {},
     "output_type": "execute_result"
    }
   ],
   "source": [
    "qreg_q = QuantumRegister(6, 'q')\n",
    "creg_c = ClassicalRegister(2, 'c')\n",
    "circuit = QuantumCircuit(qreg_q, creg_c)\n",
    "\n",
    "#### Bell State is formed by Q0 and Q1 ####\n",
    "circuit.h(0) # Hadamard Gate at Q0\n",
    "             # No Gate to Q1\n",
    "             # CNOT Gate to Q0 & Q1 after encoding & decoding them for phase & bit flip errors respectively  \n",
    "\n",
    "encode() # User-defined function for encoding the qubits\n",
    "\n",
    "##### Simulating Errors #####\n",
    "circuit.barrier()\n",
    "circuit.z(0) # Simulating Q0 for Phase Flip Error\n",
    "circuit.x(1) # Simulating Q1 for Bit Flip Error\n",
    "\n",
    "decode() # User defined function for decoding\n",
    "\n",
    "circuit.barrier()\n",
    "circuit.cx(0,1) # CNOT Gate at Q0 and Q1 for Bell State\n",
    "\n",
    "circuit.draw() # Draw the circuit"
   ]
  },
  {
   "cell_type": "code",
   "execution_count": 137,
   "metadata": {
    "scrolled": false
   },
   "outputs": [
    {
     "name": "stdout",
     "output_type": "stream",
     "text": [
      "\t Sign-flip error at Q0 & Bit-flip error at Q1 \n",
      "\t\t {'00': 509, '11': 491}\n"
     ]
    },
    {
     "data": {
      "image/png": "[encoded data removed]",
      "text/plain": [
       "<Figure size 504x360 with 1 Axes>"
      ]
     },
     "execution_count": 137,
     "metadata": {},
     "output_type": "execute_result"
    }
   ],
   "source": [
    "# Create a Quantum Circuit\n",
    "meas = QuantumCircuit(6, 2)\n",
    "meas.measure(range(2), range(2))\n",
    "qc = circuit + meas\n",
    "backend_sim = Aer.get_backend('qasm_simulator') # Use Aer's qasm_simulator\n",
    "\n",
    "# Execute the circuit on the qasm simulator.\n",
    "job_sim = execute(qc, backend_sim, shots=1000) # The number of repeats of the circuit is 1000\n",
    "result_sim = job_sim.result() # Grab the results from the job.\n",
    "\n",
    "counts = result_sim.get_counts(qc)\n",
    "print(\"\\t Sign-flip error at Q0 & Bit-flip error at Q1 \\n\\t\\t\", counts)\n",
    "\n",
    "plot_histogram(counts)"
   ]
  },
  {
   "cell_type": "markdown",
   "metadata": {},
   "source": [
    "When histogram of the probabilities of the outcomes of the final state is plotted, we observe that the state has approximately 50% probability of being measured in the state $|00\\rangle$, and 50% chance of being measured in the state $|11\\rangle$. So, the encoding fixes sign-flip error at Q0 and bit-flip error at Q1 before CNOT gate of Bell state.\n",
    "\n",
    "<br>\n",
    "\n",
    "<a id='4'></a>\n",
    "\n",
    "## 4. Measurement and Results\n",
    "\n",
    "Now, the code is simulated with combination of unitary errors (I-gate, X-gate, Z-gate) at Q0 & Q1 with different probabilities"
   ]
  },
  {
   "cell_type": "code",
   "execution_count": 140,
   "metadata": {},
   "outputs": [
    {
     "name": "stdout",
     "output_type": "stream",
     "text": [
      "Simulation with combination of unitary errors at Q0 & Q1 with different probabilities: {'00': 502, '11': 498}\n"
     ]
    },
    {
     "data": {
      "image/png": "[encoded data removed]",
      "text/plain": [
       "<Figure size 504x360 with 1 Axes>"
      ]
     },
     "execution_count": 140,
     "metadata": {},
     "output_type": "execute_result"
    }
   ],
   "source": [
    "import numpy\n",
    "\n",
    "qreg_q = QuantumRegister(6, 'q')\n",
    "creg_c = ClassicalRegister(2, 'c')\n",
    "circuit = QuantumCircuit(qreg_q, creg_c)\n",
    "\n",
    "#### Bell State is formed by Q0 and Q1 ####\n",
    "circuit.h(0) # Hadamard Gate at Q0\n",
    "             # No Gate to Q1\n",
    "             # CNOT Gate to Q0 & Q1 after encoding & decoding them for phase and bit flip errors respectively\n",
    "\n",
    "encode()\n",
    "\n",
    "##### Adding Errors Probabilistically #####\n",
    "circuit.barrier()\n",
    "\n",
    "error_prob=(0.3,0.35,0.35) # error_prob: tuple giving probability of (I, X, Z) error gates\n",
    "                           #            (the 3 elements of the tuple must be non_zero & sum to 1)\n",
    "\n",
    "i_error = i.to_instruction()\n",
    "x_error = x.to_instruction()\n",
    "z_error = z.to_instruction()\n",
    "\n",
    "unitary_error = numpy.random.choice([i_error, x_error, z_error], 2, p=error_prob)\n",
    "circuit.append(error_gates[0],[0])\n",
    "circuit.append(error_gates[1],[1])\n",
    "###########################################\n",
    "\n",
    "decode()\n",
    "\n",
    "circuit.barrier()\n",
    "circuit.cx(0,1) # CNOT Gate at Q0 and Q1 for Bell State\n",
    "\n",
    "# Create a Quantum Circuit\n",
    "meas = QuantumCircuit(6, 2)\n",
    "meas.measure(range(2), range(2))\n",
    "qc = circuit + meas\n",
    "backend_sim = Aer.get_backend('qasm_simulator') # Use Aer's qasm_simulator\n",
    "\n",
    "# Execute the circuit on the qasm simulator.\n",
    "job_sim = execute(qc, backend_sim, shots=1000) # The number of repeats of the circuit is 1000\n",
    "result_sim = job_sim.result() # Grab the results from the job.\n",
    "\n",
    "counts = result_sim.get_counts(qc)\n",
    "print(\"Simulation with combination of unitary errors at Q0 & Q1 with different probabilities:\", counts)\n",
    "\n",
    "plot_histogram(counts)"
   ]
  },
  {
   "cell_type": "markdown",
   "metadata": {},
   "source": [
    "We can change the tuple error_prob to change the probabilities of (I, X, Z) error gates. The measurement of final state for  different values of probabilities comes out to be approximately 50% for both the states $|00\\rangle$ and $|11\\rangle$.\n",
    "\n",
    "<a id='5'></a>\n",
    "\n",
    "# 5. Conclusion\n",
    "\n",
    "Measurements are taken and analysed after for unitary errors with random probabilities. The measurement of final state for the different cases shows that the probability of the state $|00\\rangle$ is approximately 50%, and 50% chance of being measured in the state $|11\\rangle$ is also roughly 50%. \n",
    "\n",
    "Hence, the code works well for all the cases and is able to fix the errors occuring at Q0 and Q1 before the CNOT gate and  can be used to encode and decode each of the two qubits, in such a way that all the possible choices for the error gates (I-gate, X-gate and Z-gate) applied before CNOT gate of the Bell State, occurring on the logical qubits, can be detected and fixed.\n",
    "\n",
    "<br> <hr> <br>\n",
    "<a id='6'></a>\n",
    "\n",
    "## References\n",
    "\n",
    "<ul> \n",
    "    <li> <a href= \"https://en.wikipedia.org/wiki/Quantum_error_correction#:~:text=Peter%20Shor's%209%2Dqubit,errors%20in%20a%20single%20qubit.&text=Raymond%20Laflamme%20and%20collaborators%20found,property%20of%20being%20fault%2Dtolerant\">Quantum error correction - Wikipedia </a> </li>\n",
    "    <li> <a href= \"https://qiskit.org/\" >Qiskit </a> </li>\n",
    "\n",
    "</ul>\n",
    "\n",
    "<br>"
   ]
  }
 ],
 "metadata": {
  "kernelspec": {
   "display_name": "Python 3",
   "language": "python",
   "name": "python3"
  },
  "language_info": {
   "codemirror_mode": {
    "name": "ipython",
    "version": 3
   },
   "file_extension": ".py",
   "mimetype": "text/x-python",
   "name": "python",
   "nbconvert_exporter": "python",
   "pygments_lexer": "ipython3",
   "version": "3.8.6"
  }
 },
 "nbformat": 4,
 "nbformat_minor": 4
}
